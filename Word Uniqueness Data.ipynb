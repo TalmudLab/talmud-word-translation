{
 "cells": [
  {
   "cell_type": "markdown",
   "metadata": {},
   "source": [
    "# Imports"
   ]
  },
  {
   "cell_type": "code",
   "execution_count": 6,
   "metadata": {},
   "outputs": [],
   "source": [
    "import pymongo\n",
    "import json\n",
    "import nltk\n",
    "import pandas as pd\n",
    "import numpy as np"
   ]
  },
  {
   "cell_type": "code",
   "execution_count": 2,
   "metadata": {},
   "outputs": [],
   "source": [
    "with open('pswrd.txt') as text: pswrd = text.read()\n",
    "conn_str = 'mongodb+srv://dov-db2:' + pswrd + '@apicluster.s8lqy.mongodb.net/test'\n",
    "_client = pymongo.MongoClient(conn_str)\n",
    "_db = _client['bavli']\n",
    "\n",
    "jastrow = _db['dov-jastrow']\n",
    "dicta_all = _db['new-dicta']"
   ]
  },
  {
   "cell_type": "markdown",
   "metadata": {},
   "source": [
    "# Distinct Words in Dicta"
   ]
  },
  {
   "cell_type": "markdown",
   "metadata": {},
   "source": [
    "The data below show that given a random word from the Talmud with nikkud, it will automatically be mapped to the proper POS and word root 91% of the time if piped through the Dicta data."
   ]
  },
  {
   "cell_type": "markdown",
   "metadata": {},
   "source": [
    "**NOTE TO SELF: Ignore Participles; they simply duplicate the verbs. With Participles removed, 99% of words are distinct.**\n",
    "\n",
    "*Proof:*\n",
    "\n",
    "`db['new-dicta'].aggregate([{$match: {$or: [{pos: 'Participle'}, {pos: 'Verb'}]}}, {'$group': {'_id': '$word'}}, {$group: {_id: 1, count: {'$sum': 1}}}]) `\n",
    "\n",
    "`== `\n",
    "\n",
    "`db['new-dicta'].aggregate([{$match: {pos: 'Verb'}}, {'$group': {'_id': $word}}, {$group: {_id: 1, count: {'$sum': 1}}}])`"
   ]
  },
  {
   "cell_type": "code",
   "execution_count": 48,
   "metadata": {},
   "outputs": [
    {
     "data": {
      "text/html": [
       "<div>\n",
       "<style scoped>\n",
       "    .dataframe tbody tr th:only-of-type {\n",
       "        vertical-align: middle;\n",
       "    }\n",
       "\n",
       "    .dataframe tbody tr th {\n",
       "        vertical-align: top;\n",
       "    }\n",
       "\n",
       "    .dataframe thead th {\n",
       "        text-align: right;\n",
       "    }\n",
       "</style>\n",
       "<table border=\"1\" class=\"dataframe\">\n",
       "  <thead>\n",
       "    <tr style=\"text-align: right;\">\n",
       "      <th></th>\n",
       "      <th>distinct_words</th>\n",
       "      <th>total_words</th>\n",
       "    </tr>\n",
       "  </thead>\n",
       "  <tbody>\n",
       "    <tr>\n",
       "      <th>None</th>\n",
       "      <td>873</td>\n",
       "      <td>882</td>\n",
       "    </tr>\n",
       "    <tr>\n",
       "      <th>None Suf_AccNom Suf_Fem Suf_Plural Suf_P3</th>\n",
       "      <td>3</td>\n",
       "      <td>3</td>\n",
       "    </tr>\n",
       "    <tr>\n",
       "      <th>None Suf_AccNom Suf_Fem Suf_Sing Suf_P2</th>\n",
       "      <td>2</td>\n",
       "      <td>2</td>\n",
       "    </tr>\n",
       "    <tr>\n",
       "      <th>None Suf_AccNom Suf_Fem Suf_Sing Suf_P3</th>\n",
       "      <td>2</td>\n",
       "      <td>2</td>\n",
       "    </tr>\n",
       "    <tr>\n",
       "      <th>None Suf_AccNom Suf_Masc Suf_Plural Suf_P2</th>\n",
       "      <td>2</td>\n",
       "      <td>2</td>\n",
       "    </tr>\n",
       "    <tr>\n",
       "      <th>None Suf_AccNom Suf_Masc Suf_Plural Suf_P3</th>\n",
       "      <td>6</td>\n",
       "      <td>6</td>\n",
       "    </tr>\n",
       "    <tr>\n",
       "      <th>None Suf_AccNom Suf_Masc Suf_Sing Suf_P2</th>\n",
       "      <td>2</td>\n",
       "      <td>2</td>\n",
       "    </tr>\n",
       "    <tr>\n",
       "      <th>None Suf_AccNom Suf_Masc Suf_Sing Suf_P3</th>\n",
       "      <td>4</td>\n",
       "      <td>4</td>\n",
       "    </tr>\n",
       "    <tr>\n",
       "      <th>None Suf_AccNom Suf_Masc-Fem Suf_Plural Suf_P1</th>\n",
       "      <td>3</td>\n",
       "      <td>3</td>\n",
       "    </tr>\n",
       "    <tr>\n",
       "      <th>None Suf_AccNom Suf_Masc-Fem Suf_Sing Suf_P1</th>\n",
       "      <td>2</td>\n",
       "      <td>2</td>\n",
       "    </tr>\n",
       "    <tr>\n",
       "      <th>Adjective</th>\n",
       "      <td>3884</td>\n",
       "      <td>4879</td>\n",
       "    </tr>\n",
       "    <tr>\n",
       "      <th>Adverb</th>\n",
       "      <td>319</td>\n",
       "      <td>324</td>\n",
       "    </tr>\n",
       "    <tr>\n",
       "      <th>Conj</th>\n",
       "      <td>94</td>\n",
       "      <td>94</td>\n",
       "    </tr>\n",
       "    <tr>\n",
       "      <th>Copula</th>\n",
       "      <td>167</td>\n",
       "      <td>168</td>\n",
       "    </tr>\n",
       "    <tr>\n",
       "      <th>Existential</th>\n",
       "      <td>25</td>\n",
       "      <td>25</td>\n",
       "    </tr>\n",
       "    <tr>\n",
       "      <th>Interjection</th>\n",
       "      <td>15</td>\n",
       "      <td>15</td>\n",
       "    </tr>\n",
       "    <tr>\n",
       "      <th>Interrogative</th>\n",
       "      <td>34</td>\n",
       "      <td>34</td>\n",
       "    </tr>\n",
       "    <tr>\n",
       "      <th>Negation</th>\n",
       "      <td>10</td>\n",
       "      <td>10</td>\n",
       "    </tr>\n",
       "    <tr>\n",
       "      <th>Noun</th>\n",
       "      <td>137179</td>\n",
       "      <td>183117</td>\n",
       "    </tr>\n",
       "    <tr>\n",
       "      <th>Numeral</th>\n",
       "      <td>170</td>\n",
       "      <td>178</td>\n",
       "    </tr>\n",
       "    <tr>\n",
       "      <th>Participle</th>\n",
       "      <td>68835</td>\n",
       "      <td>102926</td>\n",
       "    </tr>\n",
       "    <tr>\n",
       "      <th>Pronoun</th>\n",
       "      <td>70</td>\n",
       "      <td>71</td>\n",
       "    </tr>\n",
       "    <tr>\n",
       "      <th>Quantifier</th>\n",
       "      <td>27</td>\n",
       "      <td>27</td>\n",
       "    </tr>\n",
       "    <tr>\n",
       "      <th>Shel_</th>\n",
       "      <td>28</td>\n",
       "      <td>28</td>\n",
       "    </tr>\n",
       "    <tr>\n",
       "      <th>Verb</th>\n",
       "      <td>649333</td>\n",
       "      <td>1099220</td>\n",
       "    </tr>\n",
       "  </tbody>\n",
       "</table>\n",
       "</div>"
      ],
      "text/plain": [
       "                                                distinct_words total_words\n",
       " None                                                      873         882\n",
       " None Suf_AccNom Suf_Fem Suf_Plural Suf_P3                   3           3\n",
       " None Suf_AccNom Suf_Fem Suf_Sing Suf_P2                     2           2\n",
       " None Suf_AccNom Suf_Fem Suf_Sing Suf_P3                     2           2\n",
       " None Suf_AccNom Suf_Masc Suf_Plural Suf_P2                  2           2\n",
       " None Suf_AccNom Suf_Masc Suf_Plural Suf_P3                  6           6\n",
       " None Suf_AccNom Suf_Masc Suf_Sing Suf_P2                    2           2\n",
       " None Suf_AccNom Suf_Masc Suf_Sing Suf_P3                    4           4\n",
       " None Suf_AccNom Suf_Masc-Fem Suf_Plural Suf_P1              3           3\n",
       " None Suf_AccNom Suf_Masc-Fem Suf_Sing Suf_P1                2           2\n",
       "Adjective                                                 3884        4879\n",
       "Adverb                                                     319         324\n",
       "Conj                                                        94          94\n",
       "Copula                                                     167         168\n",
       "Existential                                                 25          25\n",
       "Interjection                                                15          15\n",
       "Interrogative                                               34          34\n",
       "Negation                                                    10          10\n",
       "Noun                                                    137179      183117\n",
       "Numeral                                                    170         178\n",
       "Participle                                               68835      102926\n",
       "Pronoun                                                     70          71\n",
       "Quantifier                                                  27          27\n",
       "Shel_                                                       28          28\n",
       "Verb                                                    649333     1099220"
      ]
     },
     "execution_count": 48,
     "metadata": {},
     "output_type": "execute_result"
    }
   ],
   "source": [
    "rows = dicta_all.distinct('pos')\n",
    "# rows.remove('Participle')\n",
    "\n",
    "dicta_data = pd.DataFrame(index=rows, columns=['distinct_words', 'total_words'])\n",
    "\n",
    "for i in dicta_data.index:\n",
    "    dicta_data['total_words'][i] = dicta_all.count_documents({'pos': i})\n",
    "    dicta_data['distinct_words'][i] = list(dicta_all.aggregate([{'$match': {'pos': i}}, \n",
    "                                                                {'$group': {'_id': '$word'}}, \n",
    "                                                                {'$group': {'_id': 1, 'count': {'$sum': 1}}}]))[0]['count']\n",
    "\n",
    "dicta_data"
   ]
  },
  {
   "cell_type": "code",
   "execution_count": 49,
   "metadata": {},
   "outputs": [],
   "source": [
    "assert sum(dicta_data['total_words']) == dicta_all.count_documents({})"
   ]
  },
  {
   "cell_type": "code",
   "execution_count": 24,
   "metadata": {},
   "outputs": [
    {
     "data": {
      "text/plain": [
       "861089"
      ]
     },
     "execution_count": 24,
     "metadata": {},
     "output_type": "execute_result"
    }
   ],
   "source": [
    "real_total_words = sum(dicta_data['distinct_words'])\n",
    "real_total_words"
   ]
  },
  {
   "cell_type": "code",
   "execution_count": 26,
   "metadata": {},
   "outputs": [
    {
     "data": {
      "text/plain": [
       "785259"
      ]
     },
     "execution_count": 26,
     "metadata": {},
     "output_type": "execute_result"
    }
   ],
   "source": [
    "distinct_words_in_corpus = list(dicta_all.aggregate([{'$group': {'_id': '$word'}}, \n",
    "                                                     {'$group': {'_id': 1, 'count': {'$sum': 1}}}]))[0]['count']\n",
    "distinct_words_in_corpus"
   ]
  },
  {
   "cell_type": "code",
   "execution_count": 27,
   "metadata": {},
   "outputs": [
    {
     "name": "stdout",
     "output_type": "stream",
     "text": [
      "Percent of unambiguously mapped Dicta words: 0.9119370936105327\n"
     ]
    }
   ],
   "source": [
    "print('Percent of unambiguously mapped Dicta words: ' + str(distinct_words_in_corpus / real_total_words))"
   ]
  },
  {
   "cell_type": "markdown",
   "metadata": {},
   "source": [
    "# Distinct Words in Jastrow"
   ]
  },
  {
   "cell_type": "markdown",
   "metadata": {},
   "source": [
    "The data below show that 84% of valid input words will map to a single entry in Jastrow."
   ]
  },
  {
   "cell_type": "code",
   "execution_count": 36,
   "metadata": {},
   "outputs": [
    {
     "data": {
      "text/plain": [
       "59733"
      ]
     },
     "execution_count": 36,
     "metadata": {},
     "output_type": "execute_result"
    }
   ],
   "source": [
    "all_word_forms = [f for doc in jastrow.find({}, {'all_forms': 1}) for f in doc['all_forms']]\n",
    "len(all_word_forms)"
   ]
  },
  {
   "cell_type": "code",
   "execution_count": 37,
   "metadata": {},
   "outputs": [
    {
     "data": {
      "text/plain": [
       "50103"
      ]
     },
     "execution_count": 37,
     "metadata": {},
     "output_type": "execute_result"
    }
   ],
   "source": [
    "distinct_word_forms = list( dict.fromkeys(all_word_forms) )\n",
    "len(distinct_word_forms)"
   ]
  },
  {
   "cell_type": "code",
   "execution_count": 40,
   "metadata": {},
   "outputs": [
    {
     "name": "stdout",
     "output_type": "stream",
     "text": [
      "Percent of unambiguous Jastrow entries: 0.8387825824920898\n"
     ]
    }
   ],
   "source": [
    "print('Percent of unambiguous Jastrow entries: ' + str(len(distinct_word_forms) / len(all_word_forms)))"
   ]
  }
 ],
 "metadata": {
  "kernelspec": {
   "display_name": "Python 3",
   "language": "python",
   "name": "python3"
  },
  "language_info": {
   "codemirror_mode": {
    "name": "ipython",
    "version": 3
   },
   "file_extension": ".py",
   "mimetype": "text/x-python",
   "name": "python",
   "nbconvert_exporter": "python",
   "pygments_lexer": "ipython3",
   "version": "3.8.3"
  }
 },
 "nbformat": 4,
 "nbformat_minor": 4
}
